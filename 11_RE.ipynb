{
  "nbformat": 4,
  "nbformat_minor": 0,
  "metadata": {
    "colab": {
      "provenance": [],
      "authorship_tag": "ABX9TyMLtDfvbZZ5rd9DurMQ+aMu",
      "include_colab_link": true
    },
    "kernelspec": {
      "name": "python3",
      "display_name": "Python 3"
    },
    "language_info": {
      "name": "python"
    }
  },
  "cells": [
    {
      "cell_type": "markdown",
      "metadata": {
        "id": "view-in-github",
        "colab_type": "text"
      },
      "source": [
        "<a href=\"https://colab.research.google.com/github/ShubhamMahajan880/Imapct-Training-DSA-Notes/blob/main/11_RE.ipynb\" target=\"_parent\"><img src=\"https://colab.research.google.com/assets/colab-badge.svg\" alt=\"Open In Colab\"/></a>"
      ]
    },
    {
      "cell_type": "markdown",
      "source": [
        "# **Regular Expressions** : -"
      ],
      "metadata": {
        "id": "X4hpaYPxOoT4"
      }
    },
    {
      "cell_type": "markdown",
      "source": [
        "* if you want to represent a group of strings accoding to particular format or pattern then we should go for Regular Expression.\n",
        "\n",
        "* RE is a declarative mechanism to represent a group of strings according to particular format or pattern.\n",
        "\n",
        "Ex.1 - We can write a regular expression to represents mobile numbers.\n",
        "\n",
        "Ex.2 - We can write a RE to represent all mail id's\n",
        "\n",
        "* The main important application areas of RE are : -\n",
        "\n",
        "1 - To devlop validation Framework or Validation Logic\n",
        "\n",
        "2 - To develop pattern matching application. Ex - Ctrl+F in windows and Grep in units\n",
        "\n",
        "3 - To develop traslators like compilers, Interpreters etc,\n",
        "\n",
        "4 - To develop Digital Circuits.\n",
        "\n",
        "5 - To develop commincation protocols like TCP,IP etc,\n",
        "\n",
        "* We can develop RE's based applications bu using python module RE.\n",
        "\n",
        "* This Module contains several inbuilt functions to use RE's very easily in our applications.\n",
        "\n",
        "\n"
      ],
      "metadata": {
        "id": "yGpgrYfQIVaA"
      }
    },
    {
      "cell_type": "markdown",
      "source": [
        "**Compile** : - RE Module contain compile Functions to Compiler Pattern into Regex objects\n",
        "\n",
        "**Finditer** :- Return the iterator objects which is match object for every match. On match objects, we can call the following methods : -\n",
        "\n",
        "Start Method, End Method, Group Method\n",
        "\n"
      ],
      "metadata": {
        "id": "rHUOIeAtIYj0"
      }
    },
    {
      "cell_type": "code",
      "execution_count": null,
      "metadata": {
        "colab": {
          "base_uri": "https://localhost:8080/"
        },
        "id": "BS1JWPS9HIp3",
        "outputId": "574d59fc-779c-4fd5-ffbc-feb9f7c1e383"
      },
      "outputs": [
        {
          "output_type": "stream",
          "name": "stdout",
          "text": [
            "0 -- 2 -- ab\n",
            "3 -- 5 -- ab\n",
            "5 -- 7 -- ab\n",
            "No of Occurances:  3\n"
          ]
        }
      ],
      "source": [
        "import re\n",
        "c=0\n",
        "p=re.finditer(\"ab\",\"abaabab\")\n",
        "for s in p:\n",
        "  c=c+1\n",
        "  print(s.start(),\"--\",s.end(),\"--\",s.group())\n",
        "print(\"No of Occurances: \",c)"
      ]
    },
    {
      "cell_type": "markdown",
      "source": [
        "# **Important Concepts of RE Module** : -\n",
        "\n",
        "1 - Match\n",
        "\n",
        "2 - Fullmatch\n",
        "\n",
        "3 - Search\n",
        "\n",
        "4 - FindAll\n",
        "\n",
        "5 - FindIter\n",
        "\n",
        "6 - Subfunction\n",
        "\n",
        "7 - Subn\n",
        "\n",
        "8 - Splich\n"
      ],
      "metadata": {
        "id": "rAQGKnitIdK3"
      }
    },
    {
      "cell_type": "markdown",
      "source": [
        "# **1 - Match** : -\n",
        "\n",
        "* We can use match function to check the given pattern at beginning of target string.\n",
        "\n",
        "* if the match is available then we will get the match object otherwise we will get None.\n"
      ],
      "metadata": {
        "id": "18r5FpJ0IiQC"
      }
    },
    {
      "cell_type": "code",
      "source": [
        "import re\n",
        "c=0\n",
        "p=re.match(\"in\",\"india\")\n",
        "if (p!=None):\n",
        "  print(\"The Pattern available at beginning of str: \")\n",
        "  print(p.start(),\"----\",p.end())\n",
        "else:\n",
        "  print(\"The pattern not available in the beginning of string\")\n"
      ],
      "metadata": {
        "colab": {
          "base_uri": "https://localhost:8080/"
        },
        "id": "it_DfYTpIlW-",
        "outputId": "9643a45a-a76a-417f-dcb6-6c9627117607"
      },
      "execution_count": null,
      "outputs": [
        {
          "output_type": "stream",
          "name": "stdout",
          "text": [
            "The Pattern available at beginning of str: \n",
            "0 ---- 2\n"
          ]
        }
      ]
    },
    {
      "cell_type": "markdown",
      "source": [
        "# **2 - FullMatch Method** : -\n",
        "\n",
        "* We can use Full Match Method or Function to match a pattern to all of target string ie complete string should be match, according to the given pattern.\n",
        "\n",
        "* If the complete string match then this function will return match objects otherwise it will return None."
      ],
      "metadata": {
        "id": "DH2J85FMJfDL"
      }
    },
    {
      "cell_type": "code",
      "source": [
        "import re\n",
        "c=0\n",
        "p=re.fullmatch(\"Ranker_Shubham\",\"Ranker_Shubham\")\n",
        "if (p!=None):\n",
        "  print(\"The Full Pattern is Matched \")\n",
        "  print(p.start(),\"----\",p.end())\n",
        "else:\n",
        "  print(\"The pattern is not Matching\")\n"
      ],
      "metadata": {
        "colab": {
          "base_uri": "https://localhost:8080/"
        },
        "id": "Z5-tddJtJbmo",
        "outputId": "40205d1d-c2ad-4e01-be1a-51b56fc877c4"
      },
      "execution_count": null,
      "outputs": [
        {
          "output_type": "stream",
          "name": "stdout",
          "text": [
            "The Full Pattern is Matched \n",
            "0 ---- 14\n"
          ]
        }
      ]
    },
    {
      "cell_type": "code",
      "source": [
        "import re\n",
        "c=0\n",
        "p=re.fullmatch(\"Ranker\",\"Ranker_Shubham\")\n",
        "if (p!=None):\n",
        "  print(\"The Full Pattern is Matched \")\n",
        "  print(p.start(),\"----\",p.end())\n",
        "else:\n",
        "  print(\"The pattern is not Matching\")\n"
      ],
      "metadata": {
        "colab": {
          "base_uri": "https://localhost:8080/"
        },
        "id": "VkSnh7TMJj4G",
        "outputId": "b33fc911-7760-48b9-eeef-717863636915"
      },
      "execution_count": null,
      "outputs": [
        {
          "output_type": "stream",
          "name": "stdout",
          "text": [
            "The pattern is not Matching\n"
          ]
        }
      ]
    },
    {
      "cell_type": "markdown",
      "source": [
        "# **3 - Search** : -\n",
        "\n",
        "* We can use Search Function to Search the Given Pattern in the Target String.\n",
        "\n",
        "* If Match is available then it returns the match object whch represents the First Occurance of the Match.\n",
        "\n",
        "* If the Match is Not Available it Returns None.\n"
      ],
      "metadata": {
        "id": "3VDlGoFpJjab"
      }
    },
    {
      "cell_type": "code",
      "source": [
        "import re\n",
        "c=0\n",
        "p=re.search(\"in\",\"Ashwin\")\n",
        "if (p!=None):\n",
        "  print(\"The Pattern is available in the String \")\n",
        "  print(p.start(),\"----\",p.end())\n",
        "else:\n",
        "  print(\"The pattern isn't available in the given string\")\n"
      ],
      "metadata": {
        "colab": {
          "base_uri": "https://localhost:8080/"
        },
        "id": "bMNIthiHJnKB",
        "outputId": "10e2a6fa-a784-4963-a5af-e441b0ccf3a0"
      },
      "execution_count": null,
      "outputs": [
        {
          "output_type": "stream",
          "name": "stdout",
          "text": [
            "The Pattern is available in the String \n",
            "4 ---- 6\n"
          ]
        }
      ]
    },
    {
      "cell_type": "code",
      "source": [
        "import re\n",
        "c=0\n",
        "p=re.search(\"in\",\"Pravin is palying cricket in game court\")\n",
        "if (p!=None):\n",
        "  print(\"The Pattern is available in the String \")\n",
        "  print(p.start(),\"----\",p.end())\n",
        "else:\n",
        "  print(\"The pattern isn't available in the given string\")\n",
        "\n",
        "  # in the case when input having more than one matched string then it will only prefrer to first matched string along with indexong of that only."
      ],
      "metadata": {
        "colab": {
          "base_uri": "https://localhost:8080/"
        },
        "id": "Verl_Y9AJo3b",
        "outputId": "fd2dcb01-22e1-40e3-da61-a652a77a9732"
      },
      "execution_count": null,
      "outputs": [
        {
          "output_type": "stream",
          "name": "stdout",
          "text": [
            "The Pattern is available in the String \n",
            "4 ---- 6\n"
          ]
        }
      ]
    },
    {
      "cell_type": "markdown",
      "source": [
        "# **4 - FindAll** :-\n",
        "\n",
        "* To find all the occurances of the Match.\n",
        "\n",
        "* This fucntion returns a list object, which contains all occutrances."
      ],
      "metadata": {
        "id": "IQ7H6sX9Jqo8"
      }
    },
    {
      "cell_type": "code",
      "source": [
        "import re\n",
        "c=0\n",
        "l=re.findall(\"[0-9]\",\"a1b2igh3\")\n",
        "print(l)"
      ],
      "metadata": {
        "colab": {
          "base_uri": "https://localhost:8080/"
        },
        "id": "Op6mwjKSJtGk",
        "outputId": "430d09e2-c88f-45c2-f6a6-1e8bef4f4bd7"
      },
      "execution_count": null,
      "outputs": [
        {
          "output_type": "stream",
          "name": "stdout",
          "text": [
            "['1', '2', '3']\n"
          ]
        }
      ]
    },
    {
      "cell_type": "code",
      "source": [
        "import re\n",
        "c=0\n",
        "l=re.findall(\"[a-b]\",\"a1b2igh3\")\n",
        "print(l)"
      ],
      "metadata": {
        "colab": {
          "base_uri": "https://localhost:8080/"
        },
        "id": "bUUlsqXnJueH",
        "outputId": "e9900e15-1c4d-49cc-ef7f-d22eb24be610"
      },
      "execution_count": null,
      "outputs": [
        {
          "output_type": "stream",
          "name": "stdout",
          "text": [
            "['a', 'b']\n"
          ]
        }
      ]
    },
    {
      "cell_type": "code",
      "source": [
        "import re\n",
        "c=0\n",
        "l=re.findall(\"[A-Z]\",\"a1b2igh3\")\n",
        "print(l)\n",
        "\n",
        "# In the case of CaseSensitiveness it will return empty set []"
      ],
      "metadata": {
        "colab": {
          "base_uri": "https://localhost:8080/"
        },
        "id": "NxG6SEMHJv_i",
        "outputId": "5083c0e3-ca04-4d03-edb0-46a363a4cf69"
      },
      "execution_count": null,
      "outputs": [
        {
          "output_type": "stream",
          "name": "stdout",
          "text": [
            "[]\n"
          ]
        }
      ]
    },
    {
      "cell_type": "markdown",
      "source": [
        "# **5 - FindIter** :-\n",
        "\n"
      ],
      "metadata": {
        "id": "Hv40tSh-Jxzu"
      }
    },
    {
      "cell_type": "code",
      "source": [
        "import re\n",
        "l=re.finditer(\"[a-z]\",\"a1b2igh3\")\n",
        "for p in l:\n",
        "  print(p.start(),\"---\",p.end(),p.group())"
      ],
      "metadata": {
        "colab": {
          "base_uri": "https://localhost:8080/"
        },
        "id": "idT4sp32JziN",
        "outputId": "c27ef8e1-c25f-46e2-f07e-5eba66a4127c"
      },
      "execution_count": null,
      "outputs": [
        {
          "output_type": "stream",
          "name": "stdout",
          "text": [
            "0 --- 1 a\n",
            "2 --- 3 b\n",
            "4 --- 5 i\n",
            "5 --- 6 g\n",
            "6 --- 7 h\n"
          ]
        }
      ]
    },
    {
      "cell_type": "code",
      "source": [
        "import re\n",
        "l=re.finditer(\"[A-Z]\",\"a1b2igh3\")\n",
        "for p in l:\n",
        "  print(p.start(),\"---\",p.end(),p.group())"
      ],
      "metadata": {
        "id": "IndOvk2kJ01H"
      },
      "execution_count": null,
      "outputs": []
    },
    {
      "cell_type": "code",
      "source": [
        "import re\n",
        "l=re.finditer(\"[0-9]\",\"a1b2igh3\")\n",
        "for p in l:\n",
        "  print(p.start(),\"---\",p.end(),p.group())"
      ],
      "metadata": {
        "colab": {
          "base_uri": "https://localhost:8080/"
        },
        "id": "SkeDHwO0J2gC",
        "outputId": "57f09339-dd15-43fb-ef4f-9e32e53f9c07"
      },
      "execution_count": null,
      "outputs": [
        {
          "output_type": "stream",
          "name": "stdout",
          "text": [
            "1 --- 2 1\n",
            "3 --- 4 2\n",
            "7 --- 8 3\n"
          ]
        }
      ]
    },
    {
      "cell_type": "markdown",
      "source": [
        "# **6 - Sub** : -\n",
        "\n",
        "* sub means **Substitution** or **Replacement**\n",
        "\n",
        "* In the target sting, evry matched pattern will be replaced with the provided replacement"
      ],
      "metadata": {
        "id": "3V_af15vJ5Gl"
      }
    },
    {
      "cell_type": "code",
      "source": [
        "import re\n",
        "l=re.sub(\"[0-9]\",\"$\",\"a1b2igh3\")\n",
        "print(l)"
      ],
      "metadata": {
        "colab": {
          "base_uri": "https://localhost:8080/"
        },
        "id": "NCT0DyAVJ7at",
        "outputId": "a5d7de35-678d-495f-f533-14f2e668415d"
      },
      "execution_count": null,
      "outputs": [
        {
          "output_type": "stream",
          "name": "stdout",
          "text": [
            "a$b$igh$\n"
          ]
        }
      ]
    },
    {
      "cell_type": "code",
      "source": [
        "import re\n",
        "l=re.sub(\"[a-z]\",\"$\",\"a1b2igh3\")\n",
        "print(l)"
      ],
      "metadata": {
        "colab": {
          "base_uri": "https://localhost:8080/"
        },
        "id": "xFXIhEfBJ9Q9",
        "outputId": "ce46c162-3c70-40f3-f7c5-faa54a428183"
      },
      "execution_count": null,
      "outputs": [
        {
          "output_type": "stream",
          "name": "stdout",
          "text": [
            "$1$2$$$3\n"
          ]
        }
      ]
    },
    {
      "cell_type": "code",
      "source": [
        "import re\n",
        "l=re.sub(\"[A-Z]\",\"$\",\"a1b2igh3\")\n",
        "print(l)"
      ],
      "metadata": {
        "colab": {
          "base_uri": "https://localhost:8080/"
        },
        "id": "CODB-ReCJ-22",
        "outputId": "1017b53d-0079-4d95-d7a2-381326d77d12"
      },
      "execution_count": null,
      "outputs": [
        {
          "output_type": "stream",
          "name": "stdout",
          "text": [
            "a1b2igh3\n"
          ]
        }
      ]
    },
    {
      "cell_type": "code",
      "source": [
        "import re\n",
        "l=re.sub(\"[A-Z]\",\"$\",\"A1B2igH3\")\n",
        "print(l)"
      ],
      "metadata": {
        "colab": {
          "base_uri": "https://localhost:8080/"
        },
        "id": "gDKcM5yWKArC",
        "outputId": "15737662-e914-4a15-a56b-5ca5a9898e3c"
      },
      "execution_count": null,
      "outputs": [
        {
          "output_type": "stream",
          "name": "stdout",
          "text": [
            "$1$2ig$3\n"
          ]
        }
      ]
    },
    {
      "cell_type": "markdown",
      "source": [
        "# **7 - Subn** : -\n",
        "\n",
        "* It is exactly same as sub method but it can also return no. of replacement"
      ],
      "metadata": {
        "id": "-62uNF0xJ47o"
      }
    },
    {
      "cell_type": "code",
      "source": [
        "import re\n",
        "l=re.subn(\"[0-9]\",\"$\",\"a1b2igh3\")\n",
        "print(l)"
      ],
      "metadata": {
        "colab": {
          "base_uri": "https://localhost:8080/"
        },
        "id": "3fsT-x4HKEqa",
        "outputId": "80cd403f-8a65-46d7-8492-edcd23ff1e73"
      },
      "execution_count": null,
      "outputs": [
        {
          "output_type": "stream",
          "name": "stdout",
          "text": [
            "('a$b$igh$', 3)\n"
          ]
        }
      ]
    },
    {
      "cell_type": "code",
      "source": [
        "import re\n",
        "l=re.subn(\"[a-b]\",\"$\",\"a1b2igh3\")\n",
        "print(l)"
      ],
      "metadata": {
        "colab": {
          "base_uri": "https://localhost:8080/"
        },
        "id": "UcfxNuQgKGCO",
        "outputId": "e5d2bf2a-84da-432b-e865-c57735ee4d60"
      },
      "execution_count": null,
      "outputs": [
        {
          "output_type": "stream",
          "name": "stdout",
          "text": [
            "('$1$2igh3', 2)\n"
          ]
        }
      ]
    },
    {
      "cell_type": "code",
      "source": [
        "import re\n",
        "l=re.subn(\"[A-Z]\",\"$\",\"a1b2igh3\")\n",
        "print(l)"
      ],
      "metadata": {
        "colab": {
          "base_uri": "https://localhost:8080/"
        },
        "id": "-78BEWMVKHYX",
        "outputId": "66c4253c-ae53-4628-9aba-0278e26b1990"
      },
      "execution_count": null,
      "outputs": [
        {
          "output_type": "stream",
          "name": "stdout",
          "text": [
            "('a1b2igh3', 0)\n"
          ]
        }
      ]
    },
    {
      "cell_type": "code",
      "source": [
        "import re\n",
        "l=re.subn(\"[A-z]\",\"$\",\"a1b2igh3\")\n",
        "print(l)"
      ],
      "metadata": {
        "colab": {
          "base_uri": "https://localhost:8080/"
        },
        "id": "k6TX9U56KIp-",
        "outputId": "e996c23e-6776-4c23-840b-b80b04e94528"
      },
      "execution_count": null,
      "outputs": [
        {
          "output_type": "stream",
          "name": "stdout",
          "text": [
            "('$1$2$$$3', 5)\n"
          ]
        }
      ]
    },
    {
      "cell_type": "markdown",
      "source": [
        "# **8  ^  Symbol** : -\n",
        "\n",
        "* We can use ^ Symbol to check wheather given target string starts with our provided Pattern or not\n",
        "\n",
        "* If the target string start with the given pattern then it returns mathc patterns otherwise it returns None\n"
      ],
      "metadata": {
        "id": "bH3hWBwaKKTd"
      }
    },
    {
      "cell_type": "code",
      "source": [
        "import re\n",
        "l=re.search(\"^learn\",\"learning python is very easy Now\")\n",
        "if(l!=None):\n",
        "  print(\"The given string starts with learn\")\n",
        "else:\n",
        "  print(\"Oh, No Given String is not started with learn\")"
      ],
      "metadata": {
        "colab": {
          "base_uri": "https://localhost:8080/"
        },
        "id": "kypt6Dd5KL2E",
        "outputId": "e178bc3d-c57f-4ab4-efda-1feaa708af71"
      },
      "execution_count": null,
      "outputs": [
        {
          "output_type": "stream",
          "name": "stdout",
          "text": [
            "The given string starts with learn\n"
          ]
        }
      ]
    },
    {
      "cell_type": "code",
      "source": [
        "import re\n",
        "l=re.search(\"^learn\",\"Elearning python is very easy Now\")\n",
        "if(l!=None):\n",
        "  print(\"The given string starts with learn\")\n",
        "else:\n",
        "  print(\"Oh, No Given String is not started with learn\")"
      ],
      "metadata": {
        "colab": {
          "base_uri": "https://localhost:8080/"
        },
        "id": "wj88nBa7KNSH",
        "outputId": "653bbe94-082b-4768-ed4e-320cf138909e"
      },
      "execution_count": null,
      "outputs": [
        {
          "output_type": "stream",
          "name": "stdout",
          "text": [
            "Oh, No Given String is not started with learn\n"
          ]
        }
      ]
    },
    {
      "cell_type": "markdown",
      "source": [
        "# **9 - $ Symbol** : -\n",
        "\n",
        "* We can use $ symbol to check wheather the given target string ends with provided pattern or not."
      ],
      "metadata": {
        "id": "03NVjut-KO2H"
      }
    },
    {
      "cell_type": "code",
      "source": [
        "import re\n",
        "l=re.search(\"easy$\",\"elearning python is very easy\")\n",
        "if(l!=None):\n",
        "  print(\"The given string ends with easy\")\n",
        "else:\n",
        "  print(\"Oh, No Given String is not ends with easy\")"
      ],
      "metadata": {
        "colab": {
          "base_uri": "https://localhost:8080/"
        },
        "id": "DwXzkDQoKQ_b",
        "outputId": "42402d41-b875-4243-a5b3-ad3b1914ef0c"
      },
      "execution_count": null,
      "outputs": [
        {
          "output_type": "stream",
          "name": "stdout",
          "text": [
            "The given string ends with easy\n"
          ]
        }
      ]
    },
    {
      "cell_type": "code",
      "source": [
        "import re\n",
        "l=re.search(\"easy$\",\"elearning python is very easyp\")\n",
        "if(l!=None):\n",
        "  print(\"The given string ends with easy\")\n",
        "else:\n",
        "  print(\"Oh, No Given String is not ends with easy\")"
      ],
      "metadata": {
        "colab": {
          "base_uri": "https://localhost:8080/"
        },
        "id": "KuL5fnC8KSxA",
        "outputId": "e57893f8-4b99-4ff7-8c89-4006701ac84e"
      },
      "execution_count": null,
      "outputs": [
        {
          "output_type": "stream",
          "name": "stdout",
          "text": [
            "Oh, No Given String is not ends with easy\n"
          ]
        }
      ]
    },
    {
      "cell_type": "markdown",
      "source": [
        "# **Chahracter Classes** : -"
      ],
      "metadata": {
        "id": "Hy2VeMSIKU62"
      }
    },
    {
      "cell_type": "markdown",
      "source": [
        "![1.jpg](data:image/jpeg;base64,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)"
      ],
      "metadata": {
        "id": "IvqpAKKrKXNm"
      }
    },
    {
      "cell_type": "markdown",
      "source": [
        "Character Classes: -\n",
        "\n",
        "Group of Character Classes are following : -\n",
        "\n",
        "1. [abc] - Either a or b or c\n",
        "\n",
        "2. [^abc] - Except a and b and c\n",
        "\n",
        "3. [a-z] - Any Lower Case Alpha bate\n",
        "\n",
        "4. [A-Z] - Any Upper Case Alphabate\n",
        "\n",
        "5. [a-z,A-Z] - Any Alphabate Symbol\n",
        "\n",
        "6. [0-9] - bAny digit\n",
        "\n",
        "7. [a-z,A-Z,0-9] : - Any Alphanumeric\n",
        "\n",
        "8. [^a-z,A-Z,0-9]: Except All Alphanumeric (Inly for Speciual Charavters)\n"
      ],
      "metadata": {
        "id": "nyzmWP4kKbcm"
      }
    },
    {
      "cell_type": "code",
      "source": [
        "import re\n",
        "l=re.finditer(\"[abc]\",\"a7b@K9z\")\n",
        "for p in l:\n",
        "  print(p.start(),\"---\",p.group())\n",
        "\n",
        "# Only abc wil consider\n"
      ],
      "metadata": {
        "colab": {
          "base_uri": "https://localhost:8080/"
        },
        "id": "aNZO9FU-KdLE",
        "outputId": "c770fd7a-75af-4233-f914-1a981207adae"
      },
      "execution_count": null,
      "outputs": [
        {
          "output_type": "stream",
          "name": "stdout",
          "text": [
            "0 --- a\n",
            "2 --- b\n"
          ]
        }
      ]
    },
    {
      "cell_type": "code",
      "source": [
        "import re\n",
        "l=re.finditer(\"[^abc]\",\"a7b@K9z\")\n",
        "for p in l:\n",
        "  print(p.start(),\"---\",p.group())\n",
        "\n",
        "# Except abc  everything will consider\n"
      ],
      "metadata": {
        "colab": {
          "base_uri": "https://localhost:8080/"
        },
        "id": "rvtywHn_Ke22",
        "outputId": "b17a7dbd-df72-4eda-f0ee-6bfd96a75496"
      },
      "execution_count": null,
      "outputs": [
        {
          "output_type": "stream",
          "name": "stdout",
          "text": [
            "1 --- 7\n",
            "3 --- @\n",
            "4 --- K\n",
            "5 --- 9\n",
            "6 --- z\n"
          ]
        }
      ]
    },
    {
      "cell_type": "code",
      "source": [
        "import re\n",
        "l=re.finditer(\"[a-z]\",\"a7b@K9z\")\n",
        "for p in l:\n",
        "  print(p.start(),\"---\",p.group())\n",
        "\n",
        "# Any Lowercase Character in a-z will consider\n"
      ],
      "metadata": {
        "colab": {
          "base_uri": "https://localhost:8080/"
        },
        "id": "0a4XFfK2KerX",
        "outputId": "cb1a03da-d981-4c2b-f6d3-ce4f6fab908a"
      },
      "execution_count": null,
      "outputs": [
        {
          "output_type": "stream",
          "name": "stdout",
          "text": [
            "0 --- a\n",
            "2 --- b\n",
            "6 --- z\n"
          ]
        }
      ]
    },
    {
      "cell_type": "code",
      "source": [
        "import re\n",
        "l=re.finditer(\"[0-9]\",\"a7b@K9z\")\n",
        "for p in l:\n",
        "  print(p.start(),\"---\",p.group())\n",
        "\n",
        "# Only 0-9 digits will be consider\n"
      ],
      "metadata": {
        "colab": {
          "base_uri": "https://localhost:8080/"
        },
        "id": "ksGCxZAaKiPg",
        "outputId": "2aa7ea46-0eac-46f6-89d7-044f02d87f87"
      },
      "execution_count": null,
      "outputs": [
        {
          "output_type": "stream",
          "name": "stdout",
          "text": [
            "1 --- 7\n",
            "5 --- 9\n"
          ]
        }
      ]
    },
    {
      "cell_type": "code",
      "source": [
        "import re\n",
        "l=re.finditer(\"[A-Z]\",\"a7b@K9z\")\n",
        "for p in l:\n",
        "  print(p.start(),\"---\",p.group())\n",
        "\n",
        "# Only A-Z Capital Letters will be consider\n"
      ],
      "metadata": {
        "colab": {
          "base_uri": "https://localhost:8080/"
        },
        "id": "naigMzvmKj0f",
        "outputId": "a12409a6-bb4c-44ed-9480-fdc6f314b28c"
      },
      "execution_count": null,
      "outputs": [
        {
          "output_type": "stream",
          "name": "stdout",
          "text": [
            "4 --- K\n"
          ]
        }
      ]
    },
    {
      "cell_type": "code",
      "source": [
        "import re\n",
        "l=re.finditer(\"[a-z,A-Z]\",\"a7b@K9z\")\n",
        "for p in l:\n",
        "  print(p.start(),\"---\",p.group())\n",
        "\n",
        "# All Alphabetical Characters will consider\n"
      ],
      "metadata": {
        "colab": {
          "base_uri": "https://localhost:8080/"
        },
        "id": "Y-IT-KhtKlkL",
        "outputId": "e9854fd8-48d1-4155-d01c-1be95eb2ce8e"
      },
      "execution_count": null,
      "outputs": [
        {
          "output_type": "stream",
          "name": "stdout",
          "text": [
            "0 --- a\n",
            "2 --- b\n",
            "4 --- K\n",
            "6 --- z\n"
          ]
        }
      ]
    },
    {
      "cell_type": "code",
      "source": [
        "import re\n",
        "l=re.finditer(\"[a-z,A-Z,0-9]\",\"a7b@K9z\")\n",
        "for p in l:\n",
        "  print(p.start(),\"---\",p.group())\n",
        "\n",
        "# All AlphaNumeric Characters will consider\n"
      ],
      "metadata": {
        "colab": {
          "base_uri": "https://localhost:8080/"
        },
        "id": "d-NZuVqFKnO7",
        "outputId": "d03fb194-04cb-427e-843c-12e8a03387ec"
      },
      "execution_count": null,
      "outputs": [
        {
          "output_type": "stream",
          "name": "stdout",
          "text": [
            "0 --- a\n",
            "1 --- 7\n",
            "2 --- b\n",
            "4 --- K\n",
            "5 --- 9\n",
            "6 --- z\n"
          ]
        }
      ]
    },
    {
      "cell_type": "code",
      "source": [
        "import re\n",
        "l=re.finditer(\"[^a-z,^A-Z,^0-9]\",\"a7b@K9z\")\n",
        "for p in l:\n",
        "  print(p.start(),\"---\",p.group())\n",
        "\n",
        "# Excpet All Alphabetical Characters Special Characters will consider\n"
      ],
      "metadata": {
        "colab": {
          "base_uri": "https://localhost:8080/"
        },
        "id": "sggWMyHWKonn",
        "outputId": "e89cbf24-2ad7-43a7-b1e5-7fec837f1732"
      },
      "execution_count": null,
      "outputs": [
        {
          "output_type": "stream",
          "name": "stdout",
          "text": [
            "3 --- @\n"
          ]
        }
      ]
    },
    {
      "cell_type": "markdown",
      "source": [
        "# **Pre-Defined Character Classes** : -"
      ],
      "metadata": {
        "id": "GZKTfsqHKqRn"
      }
    },
    {
      "cell_type": "markdown",
      "source": [
        "![2.jpg](data:image/jpeg;base64,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)"
      ],
      "metadata": {
        "id": "62EiY7JqK_u6"
      }
    },
    {
      "cell_type": "markdown",
      "source": [
        "1 - \\s - Space characteer\n",
        "\n",
        "2 - \\S - Any Character Except Space Character\n",
        "\n",
        "3 - \\d - Any Digit from 0-9\n",
        "\n",
        "4 - \\D - Any Character  Except Digit\n",
        "\n",
        "5 - \\w - Any Word Character\n",
        "\n",
        "6 - \\W - Any Character Excpet Word Character(Special Character,Space etc)\n",
        "\n",
        "7 - . - Any Charcater including Special Character\n"
      ],
      "metadata": {
        "id": "FH7xvuEULEyP"
      }
    },
    {
      "cell_type": "code",
      "source": [
        "import re\n",
        "l=re.finditer(\"\\s\",\"a7b @K9z\")\n",
        "for p in l:\n",
        "  print(p.start(),\"---\",p.group())\n",
        "\n",
        "# Only for Spce character\n"
      ],
      "metadata": {
        "colab": {
          "base_uri": "https://localhost:8080/"
        },
        "id": "F1mpNVsOLHNG",
        "outputId": "2ea32b1c-adee-4a2c-a1ef-dd08d2eeffa4"
      },
      "execution_count": null,
      "outputs": [
        {
          "output_type": "stream",
          "name": "stdout",
          "text": [
            "3 ---  \n"
          ]
        }
      ]
    },
    {
      "cell_type": "code",
      "source": [
        "import re\n",
        "l=re.finditer(\"\\S\",\"a7b @K9z\")\n",
        "for p in l:\n",
        "  print(p.start(),\"---\",p.group())\n",
        "\n",
        "# Except Spce character printing of all Characters\n"
      ],
      "metadata": {
        "colab": {
          "base_uri": "https://localhost:8080/"
        },
        "id": "0DHIpy_kLIcl",
        "outputId": "aaf4a4e2-c809-48c3-90b4-bf6b08f653b8"
      },
      "execution_count": null,
      "outputs": [
        {
          "output_type": "stream",
          "name": "stdout",
          "text": [
            "0 --- a\n",
            "1 --- 7\n",
            "2 --- b\n",
            "4 --- @\n",
            "5 --- K\n",
            "6 --- 9\n",
            "7 --- z\n"
          ]
        }
      ]
    },
    {
      "cell_type": "code",
      "source": [
        "import re\n",
        "l=re.finditer(\"\\d\",\"a7b @K9z\")\n",
        "for p in l:\n",
        "  print(p.start(),\"---\",p.group())\n",
        "\n",
        "# For all digits in 0-9\n"
      ],
      "metadata": {
        "colab": {
          "base_uri": "https://localhost:8080/"
        },
        "id": "h1q-sNbeLKDj",
        "outputId": "ba3faad6-5d95-4325-826b-31dfddd91288"
      },
      "execution_count": null,
      "outputs": [
        {
          "output_type": "stream",
          "name": "stdout",
          "text": [
            "1 --- 7\n",
            "6 --- 9\n"
          ]
        }
      ]
    },
    {
      "cell_type": "code",
      "source": [
        "import re\n",
        "l=re.finditer(\"\\D\",\"a7b @K9z\")\n",
        "for p in l:\n",
        "  print(p.start(),\"---\",p.group())\n",
        "\n",
        "# Any Character Except Digits()\n"
      ],
      "metadata": {
        "colab": {
          "base_uri": "https://localhost:8080/"
        },
        "id": "2ka30jfeLLX8",
        "outputId": "019340b8-28c4-4abf-fa41-bc51b5b05606"
      },
      "execution_count": null,
      "outputs": [
        {
          "output_type": "stream",
          "name": "stdout",
          "text": [
            "0 --- a\n",
            "2 --- b\n",
            "3 ---  \n",
            "4 --- @\n",
            "5 --- K\n",
            "7 --- z\n"
          ]
        }
      ]
    },
    {
      "cell_type": "code",
      "source": [
        "import re\n",
        "l=re.finditer(\"\\w\",\"a7b @K9z\")\n",
        "for p in l:\n",
        "  print(p.start(),\"---\",p.group())\n",
        "\n",
        "# Any Word Character\n"
      ],
      "metadata": {
        "colab": {
          "base_uri": "https://localhost:8080/"
        },
        "id": "CSCG-fgRLNOw",
        "outputId": "ca12f366-4f45-4759-cecb-de6e62c1eea6"
      },
      "execution_count": null,
      "outputs": [
        {
          "output_type": "stream",
          "name": "stdout",
          "text": [
            "0 --- a\n",
            "1 --- 7\n",
            "2 --- b\n",
            "5 --- K\n",
            "6 --- 9\n",
            "7 --- z\n"
          ]
        }
      ]
    },
    {
      "cell_type": "code",
      "source": [
        "import re\n",
        "l=re.finditer(\"\\W\",\"a7b @K9z\")\n",
        "for p in l:\n",
        "  print(p.start(),\"---\",p.group())\n",
        "\n",
        "# Any Character Excpet Word Character(Special Character,Space etc)\n"
      ],
      "metadata": {
        "colab": {
          "base_uri": "https://localhost:8080/"
        },
        "id": "fXyLvRr9LOzq",
        "outputId": "0016b2a1-3225-4ab7-b12f-4e4f47c93bcb"
      },
      "execution_count": null,
      "outputs": [
        {
          "output_type": "stream",
          "name": "stdout",
          "text": [
            "3 ---  \n",
            "4 --- @\n"
          ]
        }
      ]
    },
    {
      "cell_type": "code",
      "source": [
        "import re\n",
        "l=re.finditer(\".\",\"a7b @K9z\")\n",
        "for p in l:\n",
        "  print(p.start(),\"---\",p.group())\n",
        "\n",
        "# Any Character Including eVERYTHING - Space,Special Charcter,AlphaNumeric\n"
      ],
      "metadata": {
        "colab": {
          "base_uri": "https://localhost:8080/"
        },
        "id": "QCPkHyiaLQL8",
        "outputId": "00232aca-6be2-40ae-f672-b303ce9b1f80"
      },
      "execution_count": null,
      "outputs": [
        {
          "output_type": "stream",
          "name": "stdout",
          "text": [
            "0 --- a\n",
            "1 --- 7\n",
            "2 --- b\n",
            "3 ---  \n",
            "4 --- @\n",
            "5 --- K\n",
            "6 --- 9\n",
            "7 --- z\n"
          ]
        }
      ]
    },
    {
      "cell_type": "markdown",
      "source": [
        "**Qun : - WAP to check the given mobile number is valid Mobile number or Not**"
      ],
      "metadata": {
        "id": "aUG6y8-iLSCQ"
      }
    },
    {
      "cell_type": "code",
      "source": [
        "import re\n",
        "n=input(\"Enter Your Mobile Numbr \")\n",
        "v=re.fullmatch(\"[6-9]\\d{9}\",n)\n",
        "\n",
        "if(v):\n",
        "  print(\"It's a Valid Mobile Number \")\n",
        "\n",
        "else:\n",
        "  print(\"Entered Mobile Number is Invalid\")\n",
        "\n"
      ],
      "metadata": {
        "id": "DMv0af6gLUHa",
        "colab": {
          "base_uri": "https://localhost:8080/"
        },
        "outputId": "d32bc26b-bd86-450f-814a-f946114b6c9f"
      },
      "execution_count": null,
      "outputs": [
        {
          "output_type": "stream",
          "name": "stdout",
          "text": [
            "Enter Your Mobile Numbr 8989898988988998\n",
            "Entered Mobile Number is Invalid\n"
          ]
        }
      ]
    },
    {
      "cell_type": "code",
      "source": [
        "import re\n",
        "n=input(\"Registration Number of vehicle \")\n",
        "v=re.fullmatch(\"[A-Z] {2} \\s \\d{4}\",n)\n",
        "\n",
        "if(v):\n",
        "  print(\"Valied No.: \")\n",
        "else:\n",
        "  print(\"Invalid Number\")"
      ],
      "metadata": {
        "colab": {
          "base_uri": "https://localhost:8080/"
        },
        "id": "R6i7MisYLs2_",
        "outputId": "970e3ccb-3fbc-4cd0-e88d-aaae82e9ebae"
      },
      "execution_count": null,
      "outputs": [
        {
          "output_type": "stream",
          "name": "stdout",
          "text": [
            "Registration Number of vehicle MP 2804\n",
            "Invalid Number\n"
          ]
        }
      ]
    },
    {
      "cell_type": "markdown",
      "source": [
        "**Qun : - WAP to check the given Email id  is valid  or Not**"
      ],
      "metadata": {
        "id": "REoka9L0NU10"
      }
    },
    {
      "cell_type": "code",
      "source": [
        "import re\n",
        "n=input(\"Email id is : - \")\n",
        "v=re.fullmatch(\"^[a-z] [a-z 0-9\\.]*@gmail\\.com\",n)\n",
        "\n",
        "if(v):\n",
        "  print(\"Valied .: \")\n",
        "else:\n",
        "  print(\"Invalid Email\")"
      ],
      "metadata": {
        "id": "VorWEy0DNYMJ",
        "colab": {
          "base_uri": "https://localhost:8080/"
        },
        "outputId": "54f8b898-4c25-4e81-861a-380e7409b26c"
      },
      "execution_count": null,
      "outputs": [
        {
          "output_type": "stream",
          "name": "stdout",
          "text": [
            "Email id is : - mjhaja.shubh@gmail.com\n",
            "Invalid Email\n"
          ]
        }
      ]
    }
  ]
}