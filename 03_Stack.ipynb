{
  "cells": [
    {
      "cell_type": "markdown",
      "metadata": {
        "id": "view-in-github",
        "colab_type": "text"
      },
      "source": [
        "<a href=\"https://colab.research.google.com/github/ShubhamMahajan880/Imapct-Training-DSA-Notes/blob/main/03_Stack.ipynb\" target=\"_parent\"><img src=\"https://colab.research.google.com/assets/colab-badge.svg\" alt=\"Open In Colab\"/></a>"
      ]
    },
    {
      "cell_type": "markdown",
      "metadata": {
        "id": "eY8bzoCudVDU"
      },
      "source": [
        "# **Stack** :-\n",
        " Stack works  on the principle of LIFO (Last In First Out) means Last Inserted Element will be removed First.\n",
        "\n",
        " * We can perform various operations on the stack -\n",
        "\n",
        " 1 - Push\n",
        "\n",
        " 2 - Pop\n",
        "\n",
        " 3 - Display\n",
        "\n",
        "# **Push** :-\n",
        " Using the push operation we can insert the element into the stack\n",
        "\n",
        " # **POP** :-\n",
        "\n",
        "using the Pop operation we can retrieve or we can delete the element or remove the element from the stack\n",
        "\n",
        "\n",
        "* Stack can be implemented in 3 ways : -\n",
        "\n",
        "i - Stack implementation using list\n",
        "\n",
        "ii - Stack implementation using Linked List\n",
        "\n",
        "iii - Stack implementation using Dequeue Class\n",
        "\n",
        "\n",
        "\n"
      ]
    },
    {
      "cell_type": "markdown",
      "metadata": {
        "id": "EYUSmqEEeTYs"
      },
      "source": [
        "# **Queue** :-\n",
        "Queue works on the principle of FIFO(First In First Out)\n",
        "\n",
        "* We can perform various operations on the queue :-\n",
        "\n",
        "1 - Enqueue :- It will insert the elemnent into the queue\n",
        "\n",
        "2 - Dequeue :- It will delete the element from the queue\n",
        "\n",
        "* Queue can be implemented in 3  ways: -\n",
        "\n",
        "i - Using list\n",
        "\n",
        "ii - Using Deque Class\n",
        "\n",
        "iii - USing Linked List"
      ]
    },
    {
      "cell_type": "markdown",
      "metadata": {
        "id": "h__j_MOCm-gd"
      },
      "source": [
        "#** Implementation of Stack using List **:-\n",
        "\n"
      ]
    },
    {
      "cell_type": "code",
      "execution_count": null,
      "metadata": {
        "colab": {
          "base_uri": "https://localhost:8080/"
        },
        "id": "-Uwek-9idQ7V",
        "outputId": "02f0021f-5586-4357-bcf0-0747a2c329d8"
      },
      "outputs": [
        {
          "name": "stdout",
          "output_type": "stream",
          "text": [
            "Enter the size :- 4\n",
            "1.push,2.pop,3.display,4.exit\n",
            "Enter your option :1\n",
            "Enter the element : 12\n",
            "1.push,2.pop,3.display,4.exit\n",
            "Enter your option :1\n",
            "Enter the element : 23\n",
            "1.push,2.pop,3.display,4.exit\n",
            "Enter your option :1\n",
            "Enter the element : 45\n",
            "1.push,2.pop,3.display,4.exit\n",
            "Enter your option :1\n",
            "Enter the element : 89\n",
            "1.push,2.pop,3.display,4.exit\n",
            "Enter your option :1\n",
            "Stack is full :\n",
            "1.push,2.pop,3.display,4.exit\n",
            "Enter your option :2\n",
            "The deleted element is  89\n",
            "1.push,2.pop,3.display,4.exit\n",
            "Enter your option :2\n",
            "The deleted element is  45\n",
            "1.push,2.pop,3.display,4.exit\n",
            "Enter your option :2\n",
            "The deleted element is  23\n",
            "1.push,2.pop,3.display,4.exit\n",
            "Enter your option :2\n",
            "The deleted element is  12\n",
            "1.push,2.pop,3.display,4.exit\n",
            "Enter your option :3\n",
            "[]\n",
            "1.push,2.pop,3.display,4.exit\n",
            "Enter your option :4\n"
          ]
        }
      ],
      "source": [
        "s=[]\n",
        "size=int(input(\"Enter the size :- \"))\n",
        "top=-1\n",
        "\n",
        "while(True):\n",
        "  print(\"1.push,2.pop,3.display,4.exit\")\n",
        "  opt=int(input(\"Enter your option :\"))\n",
        "  if(opt==1):\n",
        "    if(top<size-1):\n",
        "      top=top+1\n",
        "      ele=int(input(\"Enter the element : \"))\n",
        "      s.append(ele)\n",
        "    else:\n",
        "      print(\"Stack is full :\")\n",
        "  elif(opt==2):\n",
        "    if(top==-1):\n",
        "      print(\"Stack is empty\")\n",
        "    else:\n",
        "      print(\"The deleted element is \",s.pop())\n",
        "      top=top-1\n",
        "  elif(opt==3):\n",
        "    print(s)\n",
        "  elif(opt==4):\n",
        "    break\n",
        "\n",
        "\n"
      ]
    },
    {
      "cell_type": "markdown",
      "metadata": {
        "id": "gU2HBfBgr6N0"
      },
      "source": [
        "# **Implementation of Stack using Linked List** :-\n"
      ]
    },
    {
      "cell_type": "code",
      "execution_count": null,
      "metadata": {
        "colab": {
          "base_uri": "https://localhost:8080/"
        },
        "id": "0Dc-qrtFppZ8",
        "outputId": "3a27024a-fc97-469e-c901-c62909957d20"
      },
      "outputs": [
        {
          "name": "stdout",
          "output_type": "stream",
          "text": [
            "45 34 23 12 The deleted elemet is  45\n",
            "34 23 12 The deleted elemet is  34\n",
            "23 12 "
          ]
        }
      ],
      "source": [
        "class Node:\n",
        "  def __init__(self,data):\n",
        "    self.data=data\n",
        "    self.next=None\n",
        "\n",
        "class stack:\n",
        "  def __init__(self):\n",
        "    self.head=None\n",
        "\n",
        "  def isempty(self):\n",
        "    if(self.head==None):\n",
        "      return True\n",
        "\n",
        "    else:\n",
        "      return False\n",
        "\n",
        "  def push(self,data):\n",
        "    if(self.head==None):\n",
        "      self.head=Node(data)\n",
        "    else:\n",
        "      temp=self.head\n",
        "      ne=Node(data)\n",
        "      self.head=ne\n",
        "      ne.next=temp\n",
        "\n",
        "  def Pop(self):\n",
        "    if(self.isempty()==True):\n",
        "      print(\"Stack is Empty : \")\n",
        "    else:\n",
        "      temp=self.head\n",
        "      self.head=temp.next\n",
        "      temp.next=None\n",
        "      print(\"The deleted elemet is \",temp.data)\n",
        "\n",
        "\n",
        "\n",
        "  def display(self):\n",
        "    temp=self.head\n",
        "    if(self.head is None):\n",
        "      print(\"Stack is Empty :\")\n",
        "    else:\n",
        "      while(temp):\n",
        "        print(temp.data,end=\" \")\n",
        "        temp=temp.next\n",
        "\n",
        "\n",
        "\n",
        "\n",
        "\n",
        "\n",
        "\n",
        "\n",
        "s1=stack()\n",
        "s1.push(12)\n",
        "s1.push(23)\n",
        "s1.push(34)\n",
        "s1.push(45)\n",
        "s1.display()\n",
        "s1.Pop()\n",
        "s1.display()\n",
        "s1.Pop()\n",
        "s1.display()"
      ]
    },
    {
      "cell_type": "markdown",
      "metadata": {
        "id": "pt_MKQ3O00Dz"
      },
      "source": [
        "# **Implementation of Stack using Dequeue** : -"
      ]
    },
    {
      "cell_type": "code",
      "execution_count": null,
      "metadata": {
        "colab": {
          "base_uri": "https://localhost:8080/"
        },
        "id": "cWfLtTDnv6iG",
        "outputId": "cb322ad1-53a0-46f7-f3c2-5d19c3138819"
      },
      "outputs": [
        {
          "name": "stdout",
          "output_type": "stream",
          "text": [
            "deque(['Shubham', 123, (3+5j), 3.56])\n",
            "deque(['Shubham', 123, (3+5j)])\n",
            "deque(['Shubham', 123])\n",
            "deque(['Shubham'])\n"
          ]
        }
      ],
      "source": [
        "from collections import deque\n",
        "s=deque()\n",
        "s.append(\"Shubham\")\n",
        "s.append(123)\n",
        "s.append(3+5j)\n",
        "s.append(3.56)\n",
        "print(s)\n",
        "s.pop()\n",
        "print(s)\n",
        "s.pop()\n",
        "print(s)\n",
        "s.pop()\n",
        "print(s)"
      ]
    },
    {
      "cell_type": "markdown",
      "metadata": {
        "id": "CI1O1V_62fLP"
      },
      "source": [
        "# **Implementation of Queue using Dequeue** : -"
      ]
    },
    {
      "cell_type": "code",
      "execution_count": null,
      "metadata": {
        "colab": {
          "base_uri": "https://localhost:8080/"
        },
        "id": "GHwEYhsw2s00",
        "outputId": "97e65feb-274b-4cff-a864-e051a8d44eec"
      },
      "outputs": [
        {
          "name": "stdout",
          "output_type": "stream",
          "text": [
            "deque(['Shubham', 123, (3+5j), 3.56])\n",
            "deque([123, (3+5j), 3.56])\n",
            "deque([(3+5j), 3.56])\n",
            "deque([3.56])\n"
          ]
        }
      ],
      "source": [
        "from collections import deque\n",
        "s=deque()\n",
        "s.append(\"Shubham\")\n",
        "s.append(123)\n",
        "s.append(3+5j)\n",
        "s.append(3.56)\n",
        "print(s)\n",
        "s.popleft()\n",
        "print(s)\n",
        "s.popleft()\n",
        "print(s)\n",
        "s.popleft()\n",
        "print(s)\n",
        "\n",
        "# In queue concept is FIFO, so using popleft"
      ]
    },
    {
      "cell_type": "markdown",
      "metadata": {
        "id": "a3LykAjU3Tl-"
      },
      "source": [
        "# **Implementation of Queue using List** : -"
      ]
    },
    {
      "cell_type": "code",
      "execution_count": null,
      "metadata": {
        "colab": {
          "background_save": true,
          "base_uri": "https://localhost:8080/"
        },
        "id": "_2Bbe8sv3MJ0",
        "outputId": "ad8bbd50-1fdd-42a1-c329-ff7e39a3ec41"
      },
      "outputs": [
        {
          "name": "stdout",
          "output_type": "stream",
          "text": [
            "1.push,2.pop,3.display,4.exit\n",
            "1.push,2.pop,3.display,4.exit\n",
            "1.push,2.pop,3.display,4.exit\n",
            "1.push,2.pop,3.display,4.exit\n",
            "1.push,2.pop,3.display,4.exit\n",
            "Queue is full :\n",
            "1.push,2.pop,3.display,4.exit\n",
            "1.push,2.pop,3.display,4.exit\n"
          ]
        }
      ],
      "source": [
        "q=[]\n",
        "size=int(input(\"Enter the size :- \"))\n",
        "top=-1\n",
        "\n",
        "while(True):\n",
        "  print(\"1.push,2.pop,3.display,4.exit\")\n",
        "  opt=int(input(\"Enter your option :\"))\n",
        "  if(opt==1):\n",
        "    if(top<size-1):\n",
        "      top=top+1\n",
        "      ele=int(input(\"Enter the element : \"))\n",
        "      q.append(ele)\n",
        "    else:\n",
        "      print(\"Queue is full :\")\n",
        "  elif(opt==2):\n",
        "    if(top==-1):\n",
        "      print(\"Queue is empty\")\n",
        "    else:\n",
        "      print(\"The deleted element is \",q.pop(0))\n",
        "      top=top-1\n",
        "  elif(opt==3):\n",
        "    print(q)\n",
        "  elif(opt==4):\n",
        "    break\n",
        "\n",
        "#s.pop() is a by defaault command for pop or delete last elemetn\n",
        "\n",
        "# While we pass  index as argument inside it, it uses accordingly s.pop(0)\n",
        "\n",
        "\n",
        "\n",
        "\n",
        "\n"
      ]
    },
    {
      "cell_type": "markdown",
      "metadata": {
        "id": "-s99esPP9-fS"
      },
      "source": [
        "**Qun :- Implementation of Stack using Linkedlist with the method called is full ?**"
      ]
    },
    {
      "cell_type": "code",
      "execution_count": null,
      "metadata": {
        "id": "O6rcR4jD-A6B"
      },
      "outputs": [],
      "source": [
        "class Node:\n",
        "  def __init__(self,data):\n",
        "    self.data=data\n",
        "    self.next=None\n",
        "\n",
        "class queue:\n",
        "  def __init__(self):\n",
        "    self.head=None\n",
        "\n",
        "  def isfull(self):\n",
        "    if(self.head!=None):\n",
        "      return True\n",
        "\n",
        "    else:\n",
        "      return False\n",
        "\n",
        "  def push(self,data):\n",
        "    if(self.head==None):\n",
        "      self.head=Node(data)\n",
        "    else:\n",
        "      temp=self.head\n",
        "      ne=Node(data)\n",
        "      self.head=ne\n",
        "      ne.next=temp\n",
        "\n",
        "  def Pop(self):\n",
        "    if(self.isfull()==True):\n",
        "      print(\"queue is Empty : \")\n",
        "    else:\n",
        "      prev=self.head\n",
        "      temp=self.head.next\n",
        "      while(temp.next):\n",
        "        temp=temp.next\n",
        "        prev=prev.next\n",
        "      prev.next=None\n",
        "      print(\"\\nThe deleted Element is :- \\n\",temp.data)\n",
        "\n",
        "\n",
        "\n",
        "\n",
        "  def display(self):\n",
        "    temp=self.head\n",
        "    if(self.head is None):\n",
        "      print(\"queue is Empty :\")\n",
        "    else:\n",
        "      while(temp):\n",
        "        print(temp.data,end=\" \")\n",
        "        temp=temp.next\n",
        "\n",
        "\n",
        "\n",
        "\n",
        "\n",
        "\n",
        "\n",
        "\n",
        "q1=queue()\n",
        "q1.push(12)\n",
        "q1.push(23)\n",
        "q1.push(34)\n",
        "q1.push(45)\n",
        "q1.display()\n",
        "q1.Pop()\n",
        "q1.display()\n",
        "q1.Pop()\n",
        "q1.display()"
      ]
    }
  ],
  "metadata": {
    "colab": {
      "provenance": [],
      "authorship_tag": "ABX9TyPT4kQlM3fYEMv//AJ4Ldlh",
      "include_colab_link": true
    },
    "kernelspec": {
      "display_name": "Python 3",
      "name": "python3"
    },
    "language_info": {
      "name": "python"
    }
  },
  "nbformat": 4,
  "nbformat_minor": 0
}