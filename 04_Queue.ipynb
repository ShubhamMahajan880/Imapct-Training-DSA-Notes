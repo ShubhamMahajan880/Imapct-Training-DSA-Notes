{
  "nbformat": 4,
  "nbformat_minor": 0,
  "metadata": {
    "colab": {
      "provenance": [],
      "authorship_tag": "ABX9TyOUd+MVLreDoeXsDwr4EIiI",
      "include_colab_link": true
    },
    "kernelspec": {
      "name": "python3",
      "display_name": "Python 3"
    },
    "language_info": {
      "name": "python"
    }
  },
  "cells": [
    {
      "cell_type": "markdown",
      "metadata": {
        "id": "view-in-github",
        "colab_type": "text"
      },
      "source": [
        "<a href=\"https://colab.research.google.com/github/ShubhamMahajan880/Imapct-Training-DSA-Notes/blob/main/04_Queue.ipynb\" target=\"_parent\"><img src=\"https://colab.research.google.com/assets/colab-badge.svg\" alt=\"Open In Colab\"/></a>"
      ]
    },
    {
      "cell_type": "markdown",
      "source": [
        "# **Implementation of Queue using Dequeue** : -"
      ],
      "metadata": {
        "id": "AmgRJKkQ2h5h"
      }
    },
    {
      "cell_type": "code",
      "execution_count": null,
      "metadata": {
        "colab": {
          "base_uri": "https://localhost:8080/"
        },
        "id": "T50kMDsT2dg1",
        "outputId": "5373da84-6dcd-4944-9191-b57bb78281d9"
      },
      "outputs": [
        {
          "output_type": "stream",
          "name": "stdout",
          "text": [
            "deque(['Shubham', 123, (3+5j), 3.56])\n",
            "deque([123, (3+5j), 3.56])\n",
            "deque([(3+5j), 3.56])\n",
            "deque([3.56])\n"
          ]
        }
      ],
      "source": [
        "from collections import deque\n",
        "s=deque()\n",
        "s.append(\"Shubham\")\n",
        "s.append(123)\n",
        "s.append(3+5j)\n",
        "s.append(3.56)\n",
        "print(s)\n",
        "s.popleft()\n",
        "print(s)\n",
        "s.popleft()\n",
        "print(s)\n",
        "s.popleft()\n",
        "print(s)\n",
        "\n",
        "# In queue concept is FIFO, so using popleft"
      ]
    },
    {
      "cell_type": "markdown",
      "source": [
        "# **Implementation of Queue using List** : -"
      ],
      "metadata": {
        "id": "nDIKVFLG49vw"
      }
    },
    {
      "cell_type": "code",
      "source": [
        "q=[]\n",
        "size=int(input(\"Enter the size :- \"))\n",
        "top=-1\n",
        "\n",
        "while(True):\n",
        "  print(\"1.push,2.pop,3.display,4.exit\")\n",
        "  opt=int(input(\"Enter your option :\"))\n",
        "  if(opt==1):\n",
        "    if(top<size-1):\n",
        "      top=top+1\n",
        "      ele=int(input(\"Enter the element : \"))\n",
        "      q.append(ele)\n",
        "    else:\n",
        "      print(\"Queue is full :\")\n",
        "  elif(opt==2):\n",
        "    if(top==-1):\n",
        "      print(\"Queue is empty\")\n",
        "    else:\n",
        "      print(\"The deleted element is \",q.pop(0))\n",
        "      top=top-1\n",
        "  elif(opt==3):\n",
        "    print(q)\n",
        "  elif(opt==4):\n",
        "    break\n",
        "\n",
        "#s.pop() is a by defaault command for pop or delete last elemetn\n",
        "\n",
        "# While we pass  index as argument inside it, it uses accordingly s.pop(0)\n",
        "\n",
        "\n",
        "\n",
        "\n",
        "\n"
      ],
      "metadata": {
        "colab": {
          "base_uri": "https://localhost:8080/"
        },
        "id": "LPCnxNCs4-kS",
        "outputId": "c501dda0-82e4-4d6a-fe6e-a9752c385a34"
      },
      "execution_count": null,
      "outputs": [
        {
          "name": "stdout",
          "output_type": "stream",
          "text": [
            "Enter the size :- 5\n",
            "1.push,2.pop,3.display,4.exit\n",
            "Enter your option :1\n",
            "Enter the element : 45\n",
            "1.push,2.pop,3.display,4.exit\n",
            "Enter your option :1\n",
            "Enter the element : 89\n",
            "1.push,2.pop,3.display,4.exit\n",
            "Enter your option :1\n",
            "Enter the element : 56\n",
            "1.push,2.pop,3.display,4.exit\n",
            "Enter your option :1\n",
            "Enter the element : 788\n",
            "1.push,2.pop,3.display,4.exit\n",
            "Enter your option :1\n",
            "Enter the element : 233\n",
            "1.push,2.pop,3.display,4.exit\n",
            "Enter your option :1\n",
            "Queue is full :\n",
            "1.push,2.pop,3.display,4.exit\n",
            "Enter your option :3\n",
            "[45, 89, 56, 788, 233]\n",
            "1.push,2.pop,3.display,4.exit\n",
            "Enter your option :2\n",
            "The deleted element is  45\n",
            "1.push,2.pop,3.display,4.exit\n",
            "Enter your option :2\n",
            "The deleted element is  89\n",
            "1.push,2.pop,3.display,4.exit\n",
            "Enter your option :2\n",
            "The deleted element is  56\n",
            "1.push,2.pop,3.display,4.exit\n",
            "Enter your option :2\n",
            "The deleted element is  788\n",
            "1.push,2.pop,3.display,4.exit\n",
            "Enter your option :2\n",
            "The deleted element is  233\n",
            "1.push,2.pop,3.display,4.exit\n",
            "Enter your option :3\n",
            "[]\n",
            "1.push,2.pop,3.display,4.exit\n",
            "Enter your option :4\n"
          ]
        }
      ]
    },
    {
      "cell_type": "markdown",
      "source": [
        "# **Implementation of Queue using Linked List** :-\n"
      ],
      "metadata": {
        "id": "98eHouKk575W"
      }
    },
    {
      "cell_type": "code",
      "source": [
        "class Node:\n",
        "  def __init__(self,data):\n",
        "    self.data=data\n",
        "    self.next=None\n",
        "\n",
        "class queue:\n",
        "  def __init__(self):\n",
        "    self.head=None\n",
        "\n",
        "  def isempty(self):\n",
        "    if(self.head==None):\n",
        "      return True\n",
        "\n",
        "    else:\n",
        "      return False\n",
        "\n",
        "  def push(self,data):\n",
        "    if(self.head==None):\n",
        "      self.head=Node(data)\n",
        "    else:\n",
        "      temp=self.head\n",
        "      ne=Node(data)\n",
        "      self.head=ne\n",
        "      ne.next=temp\n",
        "\n",
        "  def Pop(self):\n",
        "    if(self.isempty()==True):\n",
        "      print(\"queue is Empty : \")\n",
        "    else:\n",
        "      prev=self.head\n",
        "      temp=self.head.next\n",
        "      while(temp.next):\n",
        "        temp=temp.next\n",
        "        prev=prev.next\n",
        "      prev.next=None\n",
        "      print(\"\\nThe deleted Element is :- \\n\",temp.data)\n",
        "\n",
        "\n",
        "\n",
        "\n",
        "  def display(self):\n",
        "    temp=self.head\n",
        "    if(self.head is None):\n",
        "      print(\"queue is Empty :\")\n",
        "    else:\n",
        "      while(temp):\n",
        "        print(temp.data,end=\" \")\n",
        "        temp=temp.next\n",
        "\n",
        "\n",
        "\n",
        "\n",
        "\n",
        "\n",
        "\n",
        "\n",
        "q1=queue()\n",
        "q1.push(12)\n",
        "q1.push(23)\n",
        "q1.push(34)\n",
        "q1.push(45)\n",
        "q1.display()\n",
        "q1.Pop()\n",
        "q1.display()\n",
        "q1.Pop()\n",
        "q1.display()"
      ],
      "metadata": {
        "colab": {
          "base_uri": "https://localhost:8080/"
        },
        "id": "kwJzhdbT59wU",
        "outputId": "ad641169-538f-49dd-aeb0-daf9a06f8067"
      },
      "execution_count": null,
      "outputs": [
        {
          "output_type": "stream",
          "name": "stdout",
          "text": [
            "45 34 23 12 \n",
            "The deleted Element is :- \n",
            " 12\n",
            "45 34 23 \n",
            "The deleted Element is :- \n",
            " 23\n",
            "45 34 "
          ]
        }
      ]
    },
    {
      "cell_type": "markdown",
      "source": [
        "**Qun :- Implementation of Stack using Linkedlist with the method called is full ?**"
      ],
      "metadata": {
        "id": "fZSOldVi91Py"
      }
    },
    {
      "cell_type": "code",
      "source": [
        "class Node:\n",
        "  def __init__(self,data):\n",
        "    self.data=data\n",
        "    self.next=None\n",
        "\n",
        "class queue:\n",
        "  def __init__(self):\n",
        "    self.head=None\n",
        "\n",
        "  def isfull(self):\n",
        "    if(self.head!=None):\n",
        "      return True\n",
        "\n",
        "    else:\n",
        "      return False\n",
        "\n",
        "  def push(self,data):\n",
        "    if(self.head==None):\n",
        "      self.head=Node(data)\n",
        "    else:\n",
        "      temp=self.head\n",
        "      ne=Node(data)\n",
        "      self.head=ne\n",
        "      ne.next=temp\n",
        "\n",
        "  def Pop(self):\n",
        "    if(self.isfull()==True):\n",
        "      print(\"queue is Empty : \")\n",
        "    else:\n",
        "      prev=self.head\n",
        "      temp=self.head.next\n",
        "      while(temp.next):\n",
        "        temp=temp.next\n",
        "        prev=prev.next\n",
        "      prev.next=None\n",
        "      print(\"\\nThe deleted Element is :- \\n\",temp.data)\n",
        "\n",
        "\n",
        "\n",
        "\n",
        "  def display(self):\n",
        "    temp=self.head\n",
        "    if(self.head is None):\n",
        "      print(\"queue is Empty :\")\n",
        "    else:\n",
        "      while(temp):\n",
        "        print(temp.data,end=\" \")\n",
        "        temp=temp.next\n",
        "\n",
        "\n",
        "\n",
        "\n",
        "\n",
        "\n",
        "\n",
        "\n",
        "q1=queue()\n",
        "q1.push(12)\n",
        "q1.push(23)\n",
        "q1.push(34)\n",
        "q1.push(45)\n",
        "q1.display()\n",
        "q1.Pop()\n",
        "q1.display()\n",
        "q1.Pop()\n",
        "q1.display()"
      ],
      "metadata": {
        "colab": {
          "base_uri": "https://localhost:8080/"
        },
        "id": "cj0IlzPK87pL",
        "outputId": "e50fde5f-30d1-48bb-d70a-b6f42053b974"
      },
      "execution_count": null,
      "outputs": [
        {
          "output_type": "stream",
          "name": "stdout",
          "text": [
            "45 34 23 12 queue is Empty : \n",
            "45 34 23 12 queue is Empty : \n",
            "45 34 23 12 "
          ]
        }
      ]
    }
  ]
}